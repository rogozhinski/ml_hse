{
 "cells": [
  {
   "cell_type": "code",
   "execution_count": 215,
   "metadata": {},
   "outputs": [],
   "source": [
    "import numpy as np\n",
    "import pandas as pd\n",
    "from matplotlib import pyplot as plt\n",
    "\n",
    "from sklearn.linear_model import LinearRegression\n",
    "from sklearn.tree import DecisionTreeRegressor\n",
    "from sklearn.ensemble import RandomForestRegressor, BaggingRegressor\n",
    "\n",
    "%matplotlib inline\n",
    "\n",
    "pd.set_option('display.max_rows', 100)\n",
    "pd.set_option('display.max_columns', 100)"
   ]
  },
  {
   "cell_type": "code",
   "execution_count": 216,
   "metadata": {},
   "outputs": [
    {
     "data": {
      "text/plain": [
       "(506, 13)"
      ]
     },
     "execution_count": 216,
     "metadata": {},
     "output_type": "execute_result"
    }
   ],
   "source": [
    "from sklearn.datasets import load_boston\n",
    "boston = load_boston()\n",
    "x = boston[\"data\"]\n",
    "y = boston[\"target\"]\n",
    "x.shape"
   ]
  },
  {
   "cell_type": "code",
   "execution_count": 217,
   "metadata": {},
   "outputs": [],
   "source": [
    "def compute_bias_variance(regressor, x, y, num_runs=2000):\n",
    "    \n",
    "    l = x.shape[0]\n",
    "    av_answer = np.zeros(l, dtype=float)\n",
    "    av_variance = np.zeros(l, dtype=float)\n",
    "    touch_counter = np.zeros(l, dtype=float)\n",
    "    sum_error = 0\n",
    "    sum_pred = 0\n",
    "    \n",
    "    for i_run in range(num_runs):\n",
    "        \n",
    "        sample = np.random.randint(0, l, l)\n",
    "        oob = list(set(range(l)) - set(sample))\n",
    "        \n",
    "        sum_pred += len(oob)\n",
    "    \n",
    "        x_train = x[sample]\n",
    "        y_train = y[sample]\n",
    "        regressor.fit(x_train, y_train)\n",
    "    \n",
    "        x_test = x[oob]\n",
    "        y_test = y[oob]\n",
    "        prediction = regressor.predict(x_test)\n",
    "        \n",
    "        touch_counter[oob] = touch_counter[oob] + 1\n",
    "        \n",
    "        av_answer[oob] = (prediction + \\\n",
    "                          (touch_counter[oob] - 1) * av_answer[oob]) / \\\n",
    "                        touch_counter[oob]\n",
    "        \n",
    "        av_variance[oob] = (((prediction - av_answer[oob]) ** 2) + \\\n",
    "                           (touch_counter[oob] - 1) * av_variance[oob]) / \\\n",
    "                        touch_counter[oob]\n",
    "\n",
    "        sum_error += ((prediction - y_test) ** 2).sum()\n",
    "    \n",
    "    bias = ((av_answer - y) ** 2).sum() / l\n",
    "    \n",
    "    variance = av_variance.sum() / l\n",
    "    \n",
    "    error = sum_error / sum_pred\n",
    "    \n",
    "    res_dict = {'bias': bias, \\\n",
    "                'variance': variance, \\\n",
    "                'sum': bias + variance, \\\n",
    "               'error': error}\n",
    "    return res_dict"
   ]
  },
  {
   "cell_type": "code",
   "execution_count": 218,
   "metadata": {},
   "outputs": [
    {
     "data": {
      "text/plain": [
       "{'bias': 23.716552423342918,\n",
       " 'variance': 0.8980414692410109,\n",
       " 'sum': 24.61459389258393,\n",
       " 'error': 24.79012897918659}"
      ]
     },
     "execution_count": 218,
     "metadata": {},
     "output_type": "execute_result"
    }
   ],
   "source": [
    "res = compute_bias_variance(LinearRegression(), x, y, 1000)\n",
    "res"
   ]
  },
  {
   "cell_type": "code",
   "execution_count": 219,
   "metadata": {},
   "outputs": [
    {
     "data": {
      "text/plain": [
       "{'bias': 10.296753421738105,\n",
       " 'variance': 12.884363243303401,\n",
       " 'sum': 23.181116665041507,\n",
       " 'error': 23.269490810177345}"
      ]
     },
     "execution_count": 219,
     "metadata": {},
     "output_type": "execute_result"
    }
   ],
   "source": [
    "res = compute_bias_variance(DecisionTreeRegressor(), x, y, 1000)\n",
    "res"
   ]
  },
  {
   "cell_type": "code",
   "execution_count": 223,
   "metadata": {},
   "outputs": [
    {
     "data": {
      "text/plain": [
       "{'bias': 10.6342206787704,\n",
       " 'variance': 2.225408657166901,\n",
       " 'sum': 12.859629335937303,\n",
       " 'error': 12.861975285262671}"
      ]
     },
     "execution_count": 223,
     "metadata": {},
     "output_type": "execute_result"
    }
   ],
   "source": [
    "# res = compute_bias_variance(RandomForestRegressor(), x, y, 1000)\n",
    "# res"
   ]
  },
  {
   "cell_type": "code",
   "execution_count": 222,
   "metadata": {},
   "outputs": [
    {
     "data": {
      "text/plain": [
       "{'bias': 23.761814098328927,\n",
       " 'variance': 1.0108549033261405,\n",
       " 'sum': 24.772669001655068,\n",
       " 'error': 24.773855638297103}"
      ]
     },
     "execution_count": 222,
     "metadata": {},
     "output_type": "execute_result"
    }
   ],
   "source": [
    "bg_linear = BaggingRegressor(base_estimator=LinearRegression(), n_estimators=10)\n",
    "res = compute_bias_variance(bg_linear, x, y, 1000)\n",
    "res"
   ]
  },
  {
   "cell_type": "code",
   "execution_count": 224,
   "metadata": {},
   "outputs": [
    {
     "data": {
      "text/plain": [
       "{'bias': 10.688670635640568,\n",
       " 'variance': 3.3598315658967426,\n",
       " 'sum': 14.04850220153731,\n",
       " 'error': 13.959706073268556}"
      ]
     },
     "execution_count": 224,
     "metadata": {},
     "output_type": "execute_result"
    }
   ],
   "source": [
    "bg_linear = BaggingRegressor(base_estimator=DecisionTreeRegressor(), n_estimators=10)\n",
    "res = compute_bias_variance(bg_linear, x, y, 1000)\n",
    "res"
   ]
  },
  {
   "cell_type": "code",
   "execution_count": 225,
   "metadata": {},
   "outputs": [
    {
     "data": {
      "text/plain": [
       "{'bias': 11.728456647943535,\n",
       " 'variance': 1.4039224998839106,\n",
       " 'sum': 13.132379147827445,\n",
       " 'error': 13.211158677334259}"
      ]
     },
     "execution_count": 225,
     "metadata": {},
     "output_type": "execute_result"
    }
   ],
   "source": [
    "# bg_linear = BaggingRegressor(base_estimator=RandomForestRegressor(), n_estimators=10)\n",
    "# res = compute_bias_variance(bg_linear, x, y, 1000)\n",
    "# res"
   ]
  },
  {
   "cell_type": "code",
   "execution_count": 229,
   "metadata": {},
   "outputs": [
    {
     "data": {
      "text/plain": [
       "[<matplotlib.lines.Line2D at 0x7f29df49fd90>]"
      ]
     },
     "execution_count": 229,
     "metadata": {},
     "output_type": "execute_result"
    },
    {
     "data": {
      "image/png": "[encoded data removed]",
      "text/plain": [
       "<Figure size 432x288 with 1 Axes>"
      ]
     },
     "metadata": {
      "needs_background": "light"
     },
     "output_type": "display_data"
    }
   ],
   "source": [
    "bias = []\n",
    "variance = []\n",
    "max_depth_list = []\n",
    "for max_depth in range(1, 11):\n",
    "    res = compute_bias_variance(DecisionTreeRegressor(max_depth=max_depth), x, y, 1000)\n",
    "    max_depth_list.append(max_depth)\n",
    "    bias.append(res['bias'])\n",
    "    variance.append(res['variance'])\n",
    "plt.plot(max_depth_list, bias)\n",
    "plt.plot(max_depth_list, variance)"
   ]
  },
  {
   "cell_type": "code",
   "execution_count": 231,
   "metadata": {},
   "outputs": [
    {
     "data": {
      "text/plain": [
       "[<matplotlib.lines.Line2D at 0x7f29deef4a30>]"
      ]
     },
     "execution_count": 231,
     "metadata": {},
     "output_type": "execute_result"
    },
    {
     "data": {
      "image/png": "[encoded data removed]",
      "text/plain": [
       "<Figure size 432x288 with 1 Axes>"
      ]
     },
     "metadata": {
      "needs_background": "light"
     },
     "output_type": "display_data"
    }
   ],
   "source": [
    "plt.plot(max_depth_list, bias, color='blue')\n",
    "plt.plot(max_depth_list, variance, color='red')"
   ]
  },
  {
   "cell_type": "code",
   "execution_count": 236,
   "metadata": {},
   "outputs": [
    {
     "data": {
      "text/plain": [
       "[<matplotlib.lines.Line2D at 0x7f29dee763d0>]"
      ]
     },
     "execution_count": 236,
     "metadata": {},
     "output_type": "execute_result"
    },
    {
     "data": {
      "image/png": "[encoded data removed]",
      "text/plain": [
       "<Figure size 432x288 with 1 Axes>"
      ]
     },
     "metadata": {
      "needs_background": "light"
     },
     "output_type": "display_data"
    }
   ],
   "source": [
    "bias = []\n",
    "variance = []\n",
    "max_features_list = []\n",
    "for max_features in range(1, 14):\n",
    "    res = compute_bias_variance(DecisionTreeRegressor(max_features=max_features), x, y, 1000)\n",
    "    max_features_list.append(max_features)\n",
    "    bias.append(res['bias'])\n",
    "    variance.append(res['variance'])\n",
    "plt.plot(max_features_list, bias, color='blue')\n",
    "plt.plot(max_features_list, variance, color='red')"
   ]
  },
  {
   "cell_type": "code",
   "execution_count": null,
   "metadata": {},
   "outputs": [],
   "source": []
  }
 ],
 "metadata": {
  "kernelspec": {
   "display_name": "Python 3",
   "language": "python",
   "name": "python3"
  },
  "language_info": {
   "codemirror_mode": {
    "name": "ipython",
    "version": 3
   },
   "file_extension": ".py",
   "mimetype": "text/x-python",
   "name": "python",
   "nbconvert_exporter": "python",
   "pygments_lexer": "ipython3",
   "version": "3.8.5"
  }
 },
 "nbformat": 4,
 "nbformat_minor": 4
}
