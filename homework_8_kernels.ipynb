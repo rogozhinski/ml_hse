{
 "cells": [
  {
   "cell_type": "code",
   "execution_count": 5,
   "metadata": {},
   "outputs": [],
   "source": [
    "import pandas as pd\n",
    "import numpy as np\n",
    "\n",
    "from sklearn.linear_model import LogisticRegression\n",
    "from sklearn.svm import SVC\n",
    "from sklearn.metrics import accuracy_score, f1_score\n",
    "\n",
    "from tensorflow.keras.datasets import fashion_mnist\n",
    "from sklearn.decomposition import PCA"
   ]
  },
  {
   "cell_type": "code",
   "execution_count": 6,
   "metadata": {},
   "outputs": [],
   "source": [
    "(x_train_pics, y_train), (x_test_pics, y_test) = fashion_mnist.load_data()\n",
    "x_train = x_train_pics.reshape(x_train_pics.shape[0], -1)\n",
    "x_test = x_test_pics.reshape(x_test_pics.shape[0], -1)"
   ]
  },
  {
   "cell_type": "code",
   "execution_count": 44,
   "metadata": {},
   "outputs": [],
   "source": [
    "from sklearn.base import BaseEstimator, TransformerMixin\n",
    "\n",
    "\n",
    "class RFFPipeline(BaseEstimator, TransformerMixin):\n",
    "    def __init__(self, n_features=1000, new_dim=50, use_PCA=True, classifier='logreg',\n",
    "                kernel='linear'):\n",
    "        \"\"\"        \n",
    "        Implements pipeline, which consists of PCA decomposition,\n",
    "        Random Fourier Features approximation and linear classification model.\n",
    "        \n",
    "        n_features, int: amount of synthetic random features generated with RFF approximation.\n",
    "\n",
    "        new_dim, int: PCA output size.\n",
    "        \n",
    "        use_PCA, bool: whether to include PCA preprocessing.\n",
    "        \n",
    "        classifier, string: either 'svm' or 'logreg', a linear classification model to use on top of pipeline.\n",
    "        \n",
    "        Feel free to edit this template for your preferences.    \n",
    "        \"\"\"\n",
    "        self.n_features = n_features\n",
    "        self.use_PCA = use_PCA\n",
    "        self.new_dim = new_dim\n",
    "        self.classifier = classifier\n",
    "        self.kernel = kernel\n",
    "        \n",
    "        self.sigma = np.nan\n",
    "        self.w = np.nan\n",
    "        self.b = np.nan\n",
    "        self.pca = PCA(n_components=self.new_dim)\n",
    "        \n",
    "        if classifier=='logreg':\n",
    "            self.estimator = LogisticRegression()\n",
    "        elif classifier=='svm':\n",
    "            self.estimator = SVC(decision_function_shape='ovr', kernel=self.kernel) \n",
    "        \n",
    "    def compute_sigma(self, x, n_pairs):\n",
    "        x_i = x[np.random.randint(low=0, high=x.shape[0], size=n_pairs, dtype=int), :]\n",
    "        x_j = x[np.random.randint(low=0, high=x.shape[0], size=n_pairs, dtype=int), :]\n",
    "        return np.median(np.sum((x_i - x_j)**2, axis=1))\n",
    "        \n",
    "    def fit(self, x, y, n_pairs=100000):\n",
    "        if self.use_PCA == True:\n",
    "            x = self.pca.fit_transform(x)\n",
    "        self.sigma = self.compute_sigma(x, n_pairs)\n",
    "        \n",
    "        self.w = np.random.normal(loc=0, scale=1/np.sqrt(self.sigma), \\\n",
    "                             size=(self.n_features, x.shape[1]))\n",
    "        \n",
    "#         w_gauss = np.random.normal(loc=0, scale=1, \\\n",
    "#                              size=(self.n_features, x.shape[1]))\n",
    "#         print('w_gauss', w_gauss.shape)\n",
    "#         q = np.linalg.qr(w_gauss, mode='complete')[1]\n",
    "#         print('q', q.shape)\n",
    "#         s = np.diag(np.random.chisquare(df=self.n_features, size=self.n_features))\n",
    "#         print('s', s.shape)\n",
    "#         self.w = (1/np.sqrt(self.sigma)) * s @ q\n",
    "#         print('w', self.w.shape)\n",
    "        \n",
    "        self.b = np.random.uniform(low=-np.pi, high=np.pi, size=self.n_features)\n",
    "        new_obj = np.cos(np.transpose(self.w @ np.transpose(x)) + self.b)\n",
    "        return self.estimator.fit(new_obj, y)\n",
    "        \"\"\"\n",
    "        Fit all parts of algorithm (PCA, RFF, Classification) to training set.\n",
    "        \"\"\"\n",
    "        # Your code here: (￣▽￣)/♫•*¨*•.¸¸♪\n",
    "#         raise NotImplementedError\n",
    "\n",
    "    def predict_proba(self, x):\n",
    "        \"\"\"\n",
    "        Apply pipeline to obtain scores for input data.\n",
    "        \"\"\"\n",
    "        # Your code here: (￣▽￣)/♫•*¨*•.¸¸♪\n",
    "#         raise NotImplementedError\n",
    "        if self.use_PCA == True:\n",
    "            x = self.pca.transform(x)\n",
    "        new_obj = np.cos(np.transpose(self.w @ np.transpose(x)) + self.b)\n",
    "        return self.estimator.predict_proba(new_obj)\n",
    "        \n",
    "    def predict(self, x):\n",
    "        \"\"\"\n",
    "        Apply pipeline to obtain discrete predictions for input data.\n",
    "        \"\"\"\n",
    "#             self.estimator.fit(X_train_pca) \n",
    "        # Your code here: (￣▽￣)/♫•*¨*•.¸¸♪\n",
    "#         raise NotImplementedError\n",
    "        if self.use_PCA == True:\n",
    "            x = self.pca.transform(x)\n",
    "        new_obj = np.cos(np.transpose(self.w @ np.transpose(x)) + self.b)\n",
    "        return self.estimator.predict(new_obj)"
   ]
  },
  {
   "cell_type": "code",
   "execution_count": 45,
   "metadata": {},
   "outputs": [
    {
     "name": "stdout",
     "output_type": "stream",
     "text": [
      "w_gauss (1000, 30)\n",
      "q (1000, 30)\n",
      "s (1000, 1000)\n",
      "w (1000, 30)\n",
      "accuracy_score is 0.1\n",
      "f1_score is  0.01818181818181818\n"
     ]
    }
   ],
   "source": [
    "# accuracy_score is 0.7697\n",
    "# f1_score is  0.7682287387877702\n",
    "\n",
    "pipeline_custom = RFFPipeline(use_PCA=True, new_dim=30, n_features=1000, \\\n",
    "                              classifier='svm', kernel='rbf')\n",
    "pipeline_custom.fit(x_train[:1000], y_train[:1000])\n",
    "prediction = pipeline_custom.predict(x_test)\n",
    "print('accuracy_score is', accuracy_score(y_test, prediction))\n",
    "print('f1_score is ', f1_score(y_test, prediction, average='macro'))"
   ]
  },
  {
   "cell_type": "code",
   "execution_count": 24,
   "metadata": {},
   "outputs": [
    {
     "name": "stdout",
     "output_type": "stream",
     "text": [
      "[[1 2 3]\n",
      " [5 6 7]]\n",
      "(2, 3)\n"
     ]
    }
   ],
   "source": [
    "a = np.array([[1,2,3], [5,6,7]])\n",
    "print(a)\n",
    "print(np.linalg.qr(a)[1].shape)"
   ]
  },
  {
   "cell_type": "code",
   "execution_count": 11,
   "metadata": {},
   "outputs": [
    {
     "data": {
      "text/plain": [
       "array([[1, 0, 0],\n",
       "       [0, 2, 0],\n",
       "       [0, 0, 3]])"
      ]
     },
     "execution_count": 11,
     "metadata": {},
     "output_type": "execute_result"
    }
   ],
   "source": [
    "b = np.array([1,2,3])\n",
    "np.diag(b)"
   ]
  },
  {
   "cell_type": "code",
   "execution_count": null,
   "metadata": {},
   "outputs": [],
   "source": []
  }
 ],
 "metadata": {
  "kernelspec": {
   "display_name": "Python 3",
   "language": "python",
   "name": "python3"
  },
  "language_info": {
   "codemirror_mode": {
    "name": "ipython",
    "version": 3
   },
   "file_extension": ".py",
   "mimetype": "text/x-python",
   "name": "python",
   "nbconvert_exporter": "python",
   "pygments_lexer": "ipython3",
   "version": "3.8.5"
  }
 },
 "nbformat": 4,
 "nbformat_minor": 4
}
