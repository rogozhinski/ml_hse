{
 "cells": [
  {
   "cell_type": "code",
   "execution_count": 1,
   "metadata": {},
   "outputs": [],
   "source": [
    "import pandas as pd\n",
    "import numpy as np\n",
    "import folium\n",
    "\n",
    "from sklearn.preprocessing import normalize\n",
    "from sklearn.base import ClusterMixin\n",
    "from sklearn.cluster import KMeans, SpectralClustering\n",
    "\n",
    "\n",
    "np.random.seed(777)"
   ]
  },
  {
   "cell_type": "code",
   "execution_count": 2,
   "metadata": {},
   "outputs": [],
   "source": [
    "class GraphClustering(ClusterMixin):\n",
    "    def __init__(self, n_clusters=8, n_components=None, **kwargs):\n",
    "        '''\n",
    "        Spectral clustering algorithm\n",
    "        param n_clusters: number of clusters to form\n",
    "        param n_components: number of eigenvectors to use\n",
    "        '''\n",
    "\n",
    "        if n_components is None:\n",
    "            n_components = n_clusters\n",
    "\n",
    "        self.n_components = n_components\n",
    "        self.kmeans = KMeans(n_clusters=n_clusters, **kwargs)\n",
    "\n",
    "    def fit_predict(self, X, y=None):\n",
    "        '''\n",
    "        Perform spectral clustering from graph adjacency matrix\n",
    "        and return vertex labels.\n",
    "        param X: (n_samples, n_samples) - graph adjacency matrix\n",
    "        return: (n_samples, ) - vertex labels\n",
    "        '''\n",
    "\n",
    "        eigenvectors = self._generate_eigenvectors(X)\n",
    "        labels = self.kmeans.fit_predict(eigenvectors[:, 1:])\n",
    "        return labels\n",
    "\n",
    "    def _generate_eigenvectors(self, X):\n",
    "        '''\n",
    "        Compute eigenvectors for spectral clustering\n",
    "        param X: (n_samples, n_samples) - graph adjacency matrix\n",
    "        return: (n_samples, n_components) - eigenvectors\n",
    "        '''\n",
    "        diagonal_matrix = np.diag(np.sum(X, axis=1))\n",
    "        laplace_matrix = diagonal_matrix - X\n",
    "        eig_val, eig_vec = np.linalg.eig(laplace_matrix)\n",
    "        eig_val = np.real(eig_val)\n",
    "        eig_vec = np.real(eig_vec) \n",
    "        eig_vec = eig_vec[:, np.argsort(eig_val)]\n",
    "        eig_val = eig_val[np.argsort(eig_val)]\n",
    "        zero_eig_val_num = eig_val[np.abs(eig_val)<1e-10].shape[0]\n",
    "        \n",
    "        return eig_vec[:, :self.n_components]"
   ]
  },
  {
   "cell_type": "code",
   "execution_count": 3,
   "metadata": {},
   "outputs": [],
   "source": [
    "# a = np.array([[1,2,3], [6,7,93], [4,7,6]])\n",
    "# graph_clustering_test = GraphClustering(n_clusters=10)\n",
    "# labels_test = graph_clustering_test.fit_predict(a)\n",
    "# labels_test\n"
   ]
  },
  {
   "cell_type": "code",
   "execution_count": 4,
   "metadata": {},
   "outputs": [
    {
     "name": "stdout",
     "output_type": "stream",
     "text": [
      "[100 100 100 100 100 100 100 100 100 100]\n"
     ]
    }
   ],
   "source": [
    "n_blocks, n_vertices = 10, 1000\n",
    "block_vertices = n_vertices // n_blocks\n",
    "\n",
    "X = np.zeros((n_vertices, n_vertices))\n",
    "for i in range(0, n_vertices, block_vertices):\n",
    "    X[i:i + block_vertices, i:i + block_vertices] = np.sqrt(i + 1)\n",
    "\n",
    "# X = np.array(\n",
    "# [[0., 1., 1., 0., 0., 1., 0., 0., 1., 1.],\n",
    "#  [1., 0., 1., 0., 0., 0., 0., 0., 0., 0.],\n",
    "#  [1., 1., 0., 0., 0., 0., 0., 0., 0., 0.],\n",
    "#  [0., 0., 0., 0., 1., 1., 0., 0., 0., 0.],\n",
    "#  [0., 0., 0., 1., 0., 1., 0., 0., 0., 0.],\n",
    "#  [1., 0., 0., 1., 1., 0., 1., 1., 0., 0.],\n",
    "#  [0., 0., 0., 0., 0., 1., 0., 1., 0., 0.],\n",
    "#  [0., 0., 0., 0., 0., 1., 1., 0., 0., 0.],\n",
    "#  [1., 0., 0., 0., 0., 0., 0., 0., 0., 1.],\n",
    "#  [1., 0., 0., 0., 0., 0., 0., 0., 1., 0.]])\n",
    "    \n",
    "graph_clustering = GraphClustering(n_clusters=n_blocks)\n",
    "labels_graph = graph_clustering.fit_predict(X)\n",
    "print(np.bincount(labels_graph))\n",
    "\n",
    "# spectral_clustering = SpectralClustering(n_clusters=n_blocks, affinity='precomputed')\n",
    "# labels_spectral = spectral_clustering.fit_predict(X)\n",
    "# print(spectral_clustering.affinity_matrix_)\n",
    "# print(np.bincount(labels_spectral))\n",
    "\n",
    "true_labels = np.zeros(n_vertices, dtype=np.int32)\n",
    "for i in range(0, n_vertices, block_vertices):\n",
    "    true_labels[i:i + block_vertices] = labels_graph[i]\n",
    "\n",
    "assert labels_graph.shape == (n_vertices, )\n",
    "assert np.all(np.bincount(labels_graph) == np.full(n_blocks, block_vertices))\n",
    "assert np.all(labels_graph == true_labels)"
   ]
  },
  {
   "cell_type": "markdown",
   "metadata": {},
   "source": [
    "data = pd.read_excel('data/City surface public transport stops.xlsx')\n",
    "data = data[data.AdmArea_en == \"Czentral`ny'j administrativny'j okrug\"]\n",
    "data = data.reset_index()\n",
    "data.head()"
   ]
  },
  {
   "cell_type": "markdown",
   "metadata": {},
   "source": [
    "map = folium.Map([55.75215, 37.61819], zoom_start=12)\n",
    "for id, row in data.iterrows():\n",
    "    folium.Circle([row.Latitude_WGS84_en, row.Longitude_WGS84_en],\n",
    "                  radius=10).add_to(map)\n",
    "map"
   ]
  },
  {
   "cell_type": "markdown",
   "metadata": {},
   "source": [
    "def get_routes(data):\n",
    "    '''\n",
    "    Accumulate routes from raw data\n",
    "    param data: pd.DataFrame - public transport stops data\n",
    "    return: dict - unsorted stops ids for each route,\n",
    "                   e.g. routes['A1'] = [356, 641, 190]\n",
    "    '''\n",
    "\n",
    "    # YOUR CODE HERE ‿︵‿︵ヽ(°□° )ノ︵‿︵‿\n",
    "    raise NotImplementedError\n",
    "\n",
    "\n",
    "def sort_routes(data, routes):\n",
    "    '''\n",
    "    Sort routes according to the proposed algorithm\n",
    "    param data: pd.DataFrame - public transport stops data\n",
    "    param routes: dict - unsorted stops ids for each route\n",
    "    return: dict - sorted stops ids for each route\n",
    "    '''\n",
    "\n",
    "    # YOUR CODE HERE ‿︵‿︵ヽ(°□° )ノ︵‿︵‿\n",
    "    raise NotImplementedError\n",
    "\n",
    "\n",
    "def get_adjacency_matrix(data, sorted_routes):\n",
    "    '''\n",
    "    Compute adjacency matrix for sorted routes\n",
    "    param data: pd.DataFrame - public transport stops data\n",
    "    param sorted_routes: dict - sorted stops ids for each route\n",
    "    return: (n_samples, n_samples) - graph adjacency matrix\n",
    "    '''\n",
    "\n",
    "    # YOUR CODE HERE ‿︵‿︵ヽ(°□° )ノ︵‿︵‿\n",
    "    raise NotImplementedError"
   ]
  },
  {
   "cell_type": "markdown",
   "metadata": {},
   "source": [
    "routes = get_routes(data)\n",
    "sorted_routes = sort_routes(data, routes)\n",
    "adjacency_matrix = get_adjacency_matrix(data, sorted_routes)"
   ]
  },
  {
   "cell_type": "markdown",
   "metadata": {},
   "source": [
    "map = folium.Map([55.75215, 37.61819], zoom_start=12)\n",
    "for route_id in np.random.choice(list(sorted_routes.keys()), size=5):\n",
    "    coords = data.loc[\n",
    "        sorted_routes[route_id],\n",
    "        ['Latitude_WGS84_en', 'Longitude_WGS84_en']\n",
    "    ].values.tolist()\n",
    "    folium.vector_layers.PolyLine(coords).add_to(map)\n",
    "\n",
    "map"
   ]
  },
  {
   "cell_type": "markdown",
   "metadata": {},
   "source": [
    "def draw_clustered_map(data, labels):\n",
    "    '''\n",
    "    Create map with coloured clusters\n",
    "    param data: pd.DataFrame - public transport stops data\n",
    "    param labels: (n_samples, ) - cluster labels for each stop\n",
    "    return: folium.Map - map with coloured clusters\n",
    "    '''\n",
    "\n",
    "    # YOUR CODE HERE ‿︵‿︵ヽ(°□° )ノ︵‿︵‿\n",
    "    raise NotImplementedError"
   ]
  },
  {
   "cell_type": "code",
   "execution_count": null,
   "metadata": {},
   "outputs": [],
   "source": []
  }
 ],
 "metadata": {
  "kernelspec": {
   "display_name": "Python 3",
   "language": "python",
   "name": "python3"
  },
  "language_info": {
   "codemirror_mode": {
    "name": "ipython",
    "version": 3
   },
   "file_extension": ".py",
   "mimetype": "text/x-python",
   "name": "python",
   "nbconvert_exporter": "python",
   "pygments_lexer": "ipython3",
   "version": "3.8.5"
  }
 },
 "nbformat": 4,
 "nbformat_minor": 4
}
